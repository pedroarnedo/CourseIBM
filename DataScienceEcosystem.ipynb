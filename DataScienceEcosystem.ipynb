{
  "nbformat": 4,
  "nbformat_minor": 0,
  "metadata": {
    "colab": {
      "provenance": []
    },
    "kernelspec": {
      "name": "python3",
      "display_name": "Python 3"
    },
    "language_info": {
      "name": "python"
    }
  },
  "cells": [
    {
      "cell_type": "markdown",
      "source": [
        "# Data Science Tools and Ecosystem"
      ],
      "metadata": {
        "id": "7Es1bPbVRij-"
      }
    },
    {
      "cell_type": "markdown",
      "source": [
        "In this notebook, Data Science Book and Ecosystem are summarized."
      ],
      "metadata": {
        "id": "FgRgGdHpR50K"
      }
    },
    {
      "cell_type": "markdown",
      "source": [
        "Some of popular languages that Data Scientist use are:\n",
        "1. Python\n",
        "2. R\n",
        "3. SQL"
      ],
      "metadata": {
        "id": "N1z6KlfcScXi"
      }
    },
    {
      "cell_type": "markdown",
      "source": [
        "Some of the commomly used libraries used bay Data Scientist include:\n",
        "\n",
        "\n",
        "1.   NumPy\n",
        "2.   Pandas\n",
        "3.   Matploblib\n",
        "\n",
        "\n",
        "\n",
        "\n",
        "\n",
        "\n",
        "\n",
        "\n",
        "\n",
        "\n"
      ],
      "metadata": {
        "id": "q0zp7HrXSd0A"
      }
    },
    {
      "cell_type": "markdown",
      "source": [
        "| Data Science Tools|\n",
        "|---                |\n",
        "| Spider            |\n",
        "| Google Colab      |\n",
        "|Visual Studio Code |"
      ],
      "metadata": {
        "id": "yY3QKVJsThEX"
      }
    },
    {
      "cell_type": "markdown",
      "source": [
        "### Below are a few examples of evaluating arithmethics expressions in python:"
      ],
      "metadata": {
        "id": "UvkMVrjVUm6o"
      }
    },
    {
      "cell_type": "code",
      "execution_count": null,
      "metadata": {
        "id": "Lb_csOCiF-_s"
      },
      "outputs": [],
      "source": [
        "(3*4)+5\n",
        "# This is a simple arithmethics expression to multiply then add integers"
      ]
    },
    {
      "cell_type": "code",
      "source": [
        "200/60\n",
        "# This will convert 200 minutes to hours by dividing by 60"
      ],
      "metadata": {
        "id": "LVxWL2zKV0QQ"
      },
      "execution_count": null,
      "outputs": []
    },
    {
      "cell_type": "markdown",
      "source": [
        "**Objetives**:\n",
        "\n",
        "\n",
        "*   Summarize the Data Science Tools and Ecosystem: It aims to provide an overview of commonly used tools and the overall ecosystem in the field of data science.\n",
        "*   List Popular Languages: It lists some of the popular programming languages used by data scientists, including Python, R, and SQL.\n",
        "*   Introduce Common Libraries: It mentions some of the widely used libraries in data science, such as NumPy, Pandas, and Matplotlib.\n",
        "\n",
        "\n",
        "\n",
        "\n",
        "\n",
        "\n",
        "\n",
        "\n",
        "\n",
        "\n",
        "\n",
        "\n",
        "\n"
      ],
      "metadata": {
        "id": "ErTs3ZZXV9ja"
      }
    },
    {
      "cell_type": "markdown",
      "source": [
        "## Author:\n",
        "PEDRO JAVIER ARNEDO BLANCO"
      ],
      "metadata": {
        "id": "jIJiOsgUW3hP"
      }
    }
  ]
}